{
 "cells": [
  {
   "cell_type": "markdown",
   "metadata": {},
   "source": [
    "# Recurrent Neural Network"
   ]
  },
  {
   "cell_type": "markdown",
   "metadata": {},
   "source": [
    "The following code illustrates RNN by defining a simple RNN model with:\n",
    "\n",
    "* One RNN layer and\n",
    "* One fully connected layer\n",
    "\n",
    "The RNN layer takes a sequence of vectors as input and outputs a sequence of vectors.\n",
    "\n",
    "`nn.Linear`, the fully connected layer, takes the output of the last time step and outputs a single vector. `nn.Linear` is a class in PyTorch that applies a linear transformation to the incoming data. It's essentially a simple feed-forward layer without any activation function applied.\n",
    "\n",
    "The transformation it applies is $y = xA^T + b$, where:\n",
    "\n",
    "* $x$ is the input\n",
    "* $A$ is the weight matrix, learned during training\n",
    "* $b$ is the bias vector, also learned during training\n",
    "* $y$ is the output\n",
    "\n",
    "In the context of our code, `nn.Linear(hidden_size, output_size)` creates a fully connected (linear) layer that takes as input a tensor of size `hidden_size` and outputs a tensor of size `output_size`. The layer learns a weight matrix of size `output_size x hidden_size` and a bias vector of size `output_size` during training.\n",
    "\n",
    "The model is then applied to a batch of input sequences, and the output is printed."
   ]
  },
  {
   "cell_type": "code",
   "execution_count": 7,
   "metadata": {},
   "outputs": [
    {
     "name": "stdout",
     "output_type": "stream",
     "text": [
      "torch.Size([32, 1])\n",
      "tensor([[-0.2066],\n",
      "        [-0.2378],\n",
      "        [-0.3100],\n",
      "        [-0.3621],\n",
      "        [-0.2376],\n",
      "        [-0.4694],\n",
      "        [-0.2193],\n",
      "        [-0.3081],\n",
      "        [-0.2183],\n",
      "        [-0.2774],\n",
      "        [-0.2603],\n",
      "        [-0.0779],\n",
      "        [-0.2969],\n",
      "        [-0.1407],\n",
      "        [-0.3621],\n",
      "        [-0.2641],\n",
      "        [-0.3416],\n",
      "        [-0.3610],\n",
      "        [-0.3359],\n",
      "        [-0.2387],\n",
      "        [-0.2761],\n",
      "        [-0.2700],\n",
      "        [-0.3523],\n",
      "        [-0.2503],\n",
      "        [-0.2999],\n",
      "        [-0.0874],\n",
      "        [-0.4693],\n",
      "        [-0.3114],\n",
      "        [-0.1293],\n",
      "        [-0.4395],\n",
      "        [-0.3414],\n",
      "        [-0.1399]], grad_fn=<AddmmBackward0>)\n"
     ]
    }
   ],
   "source": [
    "import torch\n",
    "import torch.nn as nn\n",
    "\n",
    "class SimpleRNN(nn.Module):\n",
    "    def __init__(self, input_size, hidden_size, output_size):\n",
    "        super(SimpleRNN, self).__init__()\n",
    "\n",
    "        self.hidden_size = hidden_size\n",
    "        self.rnn = nn.RNN(input_size, hidden_size, num_layers=1, batch_first=True)\n",
    "        self.fc = nn.Linear(hidden_size, output_size)\n",
    "\n",
    "    def forward(self, x):\n",
    "        # Initialize hidden state\n",
    "        h0 = torch.zeros(1, x.size(0), self.hidden_size).to(x.device)\n",
    "\n",
    "        # Pass the input through the RNN layer\n",
    "        out, _ = self.rnn(x, h0)\n",
    "\n",
    "        # Pass the output of the last time step through the fully connected layer\n",
    "        out = self.fc(out[:, -1, :])\n",
    "\n",
    "        return out\n",
    "\n",
    "# Define the dimensions\n",
    "input_size = 10\n",
    "hidden_size = 20\n",
    "output_size = 1\n",
    "seq_length = 5\n",
    "\n",
    "# Create the model\n",
    "model = SimpleRNN(input_size, hidden_size, output_size)\n",
    "\n",
    "# Create a random tensor to represent a batch of input sequences\n",
    "x = torch.randn((32, seq_length, input_size))\n",
    "\n",
    "# Forward propagate the RNN\n",
    "output = model(x)\n",
    "\n",
    "print(output.shape)  # Should be [32, 1] because the batch size is 32 and output size is 1\n",
    "print(output)"
   ]
  },
  {
   "cell_type": "markdown",
   "metadata": {},
   "source": [
    "Let's see what the RNN's internal look like."
   ]
  },
  {
   "cell_type": "code",
   "execution_count": 8,
   "metadata": {},
   "outputs": [
    {
     "name": "stdout",
     "output_type": "stream",
     "text": [
      "----------------------------------------------------------------\n",
      "        Layer (type)               Output Shape         Param #\n",
      "================================================================\n",
      "               RNN-1  [[-1, 5, 20], [-1, 2, 20]]               0\n",
      "            Linear-2                    [-1, 1]              21\n",
      "================================================================\n",
      "Total params: 21\n",
      "Trainable params: 21\n",
      "Non-trainable params: 0\n",
      "----------------------------------------------------------------\n",
      "Input size (MB): 0.00\n",
      "Forward/backward pass size (MB): 0.03\n",
      "Params size (MB): 0.00\n",
      "Estimated Total Size (MB): 0.03\n",
      "----------------------------------------------------------------\n"
     ]
    }
   ],
   "source": [
    "from torchsummary import summary\n",
    "\n",
    "# Assuming that the input size is (seq_length, input_size)\n",
    "summary(model, input_size=(seq_length, input_size))"
   ]
  }
 ],
 "metadata": {
  "kernelspec": {
   "display_name": "ai",
   "language": "python",
   "name": "python3"
  },
  "language_info": {
   "codemirror_mode": {
    "name": "ipython",
    "version": 3
   },
   "file_extension": ".py",
   "mimetype": "text/x-python",
   "name": "python",
   "nbconvert_exporter": "python",
   "pygments_lexer": "ipython3",
   "version": "3.9.6"
  }
 },
 "nbformat": 4,
 "nbformat_minor": 2
}
